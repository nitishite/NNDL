{
  "nbformat": 4,
  "nbformat_minor": 0,
  "metadata": {
    "colab": {
      "provenance": []
    },
    "kernelspec": {
      "name": "python3",
      "display_name": "Python 3"
    },
    "language_info": {
      "name": "python"
    }
  },
  "cells": [
    {
      "cell_type": "markdown",
      "source": [
        "## Importing Libraries"
      ],
      "metadata": {
        "id": "-UkWEvTMQy3a"
      }
    },
    {
      "cell_type": "code",
      "execution_count": 20,
      "metadata": {
        "id": "uzJk_4A29GjM"
      },
      "outputs": [],
      "source": [
        "import pandas as pd\n",
        "import numpy as np\n",
        "import re\n",
        "import matplotlib.pyplot as plt\n",
        "from sklearn.model_selection import train_test_split\n",
        "from sklearn.metrics import accuracy_score\n",
        "from tensorflow.keras.preprocessing.text import Tokenizer\n",
        "from tensorflow.keras.preprocessing.sequence import pad_sequences\n",
        "from tensorflow.keras.models import Sequential\n",
        "from tensorflow.keras.layers import Dense, Embedding, LSTM, Dropout\n",
        "from tensorflow.keras.layers import Flatten\n",
        "from tensorflow.keras.layers import ReLU\n",
        "from tensorflow.keras.layers import Input\n",
        "from tensorflow.keras.optimizers import Adam\n",
        "from tensorflow.keras.layers import Activation\n",
        "from tensorflow.keras import layers"
      ]
    },
    {
      "cell_type": "markdown",
      "source": [
        "## Loading the dataset"
      ],
      "metadata": {
        "id": "OVgRYKj5Q2OU"
      }
    },
    {
      "cell_type": "code",
      "source": [
        "df = pd.read_csv('2BIMDB.csv')\n",
        "df.info()"
      ],
      "metadata": {
        "id": "4keR-Wf592F5",
        "colab": {
          "base_uri": "https://localhost:8080/"
        },
        "outputId": "4dab7b22-ae2f-46ad-8bc9-e2c8b540b13f"
      },
      "execution_count": 22,
      "outputs": [
        {
          "output_type": "stream",
          "name": "stdout",
          "text": [
            "<class 'pandas.core.frame.DataFrame'>\n",
            "RangeIndex: 50000 entries, 0 to 49999\n",
            "Data columns (total 2 columns):\n",
            " #   Column     Non-Null Count  Dtype \n",
            "---  ------     --------------  ----- \n",
            " 0   review     50000 non-null  object\n",
            " 1   sentiment  50000 non-null  object\n",
            "dtypes: object(2)\n",
            "memory usage: 781.4+ KB\n"
          ]
        }
      ]
    },
    {
      "cell_type": "code",
      "source": [
        "def clean_text(text):\n",
        "    text = re.sub(r'<br />', ' ', text)\n",
        "    text = re.sub(r'[^a-zA-Z\\s]', '', text)\n",
        "    text = text.lower()\n",
        "    return text\n",
        "\n",
        "df['review'] = df['review'].apply(clean_text)"
      ],
      "metadata": {
        "id": "YKk_pddV-LXD"
      },
      "execution_count": 23,
      "outputs": []
    },
    {
      "cell_type": "code",
      "source": [
        "df['sentiment'] = df['sentiment'].map({'positive': 1, 'negative': 0})"
      ],
      "metadata": {
        "id": "AxrfPsco-QDk"
      },
      "execution_count": 24,
      "outputs": []
    },
    {
      "cell_type": "code",
      "source": [
        "tokenizer = Tokenizer(num_words=5000)\n",
        "tokenizer.fit_on_texts(df['review'])"
      ],
      "metadata": {
        "id": "ORrgH5it-R_b"
      },
      "execution_count": 25,
      "outputs": []
    },
    {
      "cell_type": "code",
      "source": [
        "X = tokenizer.texts_to_sequences(df['review'])\n",
        "X = pad_sequences(X, maxlen=200)\n",
        "y = df['sentiment'].values"
      ],
      "metadata": {
        "id": "ThzUGSx7-VkN"
      },
      "execution_count": 26,
      "outputs": []
    },
    {
      "cell_type": "code",
      "source": [
        "X_train, X_test, y_train, y_test = train_test_split(X, y, test_size=0.2, random_state=42)\n",
        "\n",
        "model = Sequential()\n",
        "\n",
        "model.add(Embedding(input_dim=5000, output_dim=32, input_length=200))\n",
        "\n",
        "model.add(Flatten())\n",
        "\n",
        "model.add(Dense(64))\n",
        "model.add(ReLU())\n",
        "model.add(Dropout(0.5))\n",
        "\n",
        "model.add(Dense(1, activation='sigmoid'))\n",
        "\n",
        "model.compile(optimizer='adam', loss='binary_crossentropy', metrics=['accuracy'])"
      ],
      "metadata": {
        "id": "_Vu0464M_6nd",
        "colab": {
          "base_uri": "https://localhost:8080/"
        },
        "outputId": "796faed2-897c-468b-dd3e-c4a472df63a6"
      },
      "execution_count": 27,
      "outputs": [
        {
          "output_type": "stream",
          "name": "stderr",
          "text": [
            "/usr/local/lib/python3.10/dist-packages/keras/src/layers/core/embedding.py:90: UserWarning: Argument `input_length` is deprecated. Just remove it.\n",
            "  warnings.warn(\n"
          ]
        }
      ]
    },
    {
      "cell_type": "code",
      "source": [
        "history = model.fit(X_train, y_train, epochs=5, batch_size=64, validation_split=0.2)"
      ],
      "metadata": {
        "colab": {
          "base_uri": "https://localhost:8080/"
        },
        "id": "2UQQYUJI_Agh",
        "outputId": "552502ce-c711-4273-9017-90752880fc91"
      },
      "execution_count": 28,
      "outputs": [
        {
          "output_type": "stream",
          "name": "stdout",
          "text": [
            "Epoch 1/5\n",
            "\u001b[1m500/500\u001b[0m \u001b[32m━━━━━━━━━━━━━━━━━━━━\u001b[0m\u001b[37m\u001b[0m \u001b[1m7s\u001b[0m 11ms/step - accuracy: 0.6914 - loss: 0.5439 - val_accuracy: 0.8704 - val_loss: 0.3101\n",
            "Epoch 2/5\n",
            "\u001b[1m500/500\u001b[0m \u001b[32m━━━━━━━━━━━━━━━━━━━━\u001b[0m\u001b[37m\u001b[0m \u001b[1m11s\u001b[0m 12ms/step - accuracy: 0.9191 - loss: 0.2151 - val_accuracy: 0.8543 - val_loss: 0.3392\n",
            "Epoch 3/5\n",
            "\u001b[1m500/500\u001b[0m \u001b[32m━━━━━━━━━━━━━━━━━━━━\u001b[0m\u001b[37m\u001b[0m \u001b[1m5s\u001b[0m 10ms/step - accuracy: 0.9700 - loss: 0.0917 - val_accuracy: 0.8555 - val_loss: 0.4378\n",
            "Epoch 4/5\n",
            "\u001b[1m500/500\u001b[0m \u001b[32m━━━━━━━━━━━━━━━━━━━━\u001b[0m\u001b[37m\u001b[0m \u001b[1m7s\u001b[0m 13ms/step - accuracy: 0.9924 - loss: 0.0275 - val_accuracy: 0.8431 - val_loss: 0.5732\n",
            "Epoch 5/5\n",
            "\u001b[1m500/500\u001b[0m \u001b[32m━━━━━━━━━━━━━━━━━━━━\u001b[0m\u001b[37m\u001b[0m \u001b[1m9s\u001b[0m 10ms/step - accuracy: 0.9979 - loss: 0.0109 - val_accuracy: 0.8469 - val_loss: 0.6634\n"
          ]
        }
      ]
    },
    {
      "cell_type": "code",
      "source": [
        "loss, accuracy = model.evaluate(X_test, y_test)\n",
        "print(f'Accuracy on the test set: {accuracy*100:.2f}%')"
      ],
      "metadata": {
        "colab": {
          "base_uri": "https://localhost:8080/"
        },
        "id": "aD0v-DYiAVHn",
        "outputId": "78664fd2-8610-4b89-baa8-6983a3d19846"
      },
      "execution_count": 29,
      "outputs": [
        {
          "output_type": "stream",
          "name": "stdout",
          "text": [
            "\u001b[1m313/313\u001b[0m \u001b[32m━━━━━━━━━━━━━━━━━━━━\u001b[0m\u001b[37m\u001b[0m \u001b[1m1s\u001b[0m 2ms/step - accuracy: 0.8520 - loss: 0.6236\n",
            "Accuracy on the test set: 85.59%\n"
          ]
        }
      ]
    },
    {
      "cell_type": "code",
      "source": [
        "plt.plot(history.history['loss'], label='Training Loss')\n",
        "plt.plot(history.history['val_loss'], label='Validation Loss')\n",
        "plt.title('Loss over epochs')\n",
        "plt.xlabel('Epochs')\n",
        "plt.ylabel('Loss')\n",
        "plt.legend()\n",
        "plt.show()"
      ],
      "metadata": {
        "colab": {
          "base_uri": "https://localhost:8080/",
          "height": 472
        },
        "id": "apY1FCMFAX9k",
        "outputId": "c67ddf58-bf32-456b-d5c8-cfc77d1d7175"
      },
      "execution_count": 30,
      "outputs": [
        {
          "output_type": "display_data",
          "data": {
            "text/plain": [
              "<Figure size 640x480 with 1 Axes>"
            ],
            "image/png": "[encoded data removed]"
          },
          "metadata": {}
        }
      ]
    },
    {
      "cell_type": "code",
      "source": [
        "y_pred = (model.predict(X_test) > 0.5).astype(\"int32\")\n",
        "\n",
        "print(f\"Accuracy: {accuracy_score(y_test, y_pred)*100:.2f}%\")"
      ],
      "metadata": {
        "colab": {
          "base_uri": "https://localhost:8080/"
        },
        "id": "NQJCeqHMAdWn",
        "outputId": "0bdea695-6e05-4a4e-e9de-6bd8339cf7e2"
      },
      "execution_count": 31,
      "outputs": [
        {
          "output_type": "stream",
          "name": "stdout",
          "text": [
            "\u001b[1m313/313\u001b[0m \u001b[32m━━━━━━━━━━━━━━━━━━━━\u001b[0m\u001b[37m\u001b[0m \u001b[1m1s\u001b[0m 3ms/step\n",
            "Accuracy: 85.59%\n"
          ]
        }
      ]
    },
    {
      "cell_type": "markdown",
      "source": [
        "##  Justification of ReLU and Sigmoid Activation Functions"
      ],
      "metadata": {
        "id": "6B5upThfQFrU"
      }
    },
    {
      "cell_type": "markdown",
      "source": [
        "* ReLU (Rectified Linear Unit): Works well in hidden layers because it allows the model to learn non-linear relationships without the vanishing gradient problem. It speeds up training and allows the network to learn faster.\n",
        "* Sigmoid: The output layer requires a function that squashes the output between 0 and 1, making it ideal for binary classification tasks. Sigmoid helps to interpret the final output as a probability (values closer to 0 for negative sentiment and closer to 1 for positive sentiment)"
      ],
      "metadata": {
        "id": "ZwR7EkZeQHIH"
      }
    },
    {
      "cell_type": "markdown",
      "source": [
        "##  Why Binary Cross-Entropy?"
      ],
      "metadata": {
        "id": "534lTl0vQOAF"
      }
    },
    {
      "cell_type": "markdown",
      "source": [
        "Binary cross-entropy is suitable for this task because:\n",
        "\n",
        "It calculates the difference between actual labels (0 or 1) and predicted probabilities.\n",
        "It works well when the task is binary classification, optimizing the model to output probabilities near 0 for one class (negative) and near 1 for the other class (positive)."
      ],
      "metadata": {
        "id": "mqxCfts8QRCM"
      }
    },
    {
      "cell_type": "markdown",
      "source": [
        "## Results"
      ],
      "metadata": {
        "id": "l-EKnb15QTMv"
      }
    },
    {
      "cell_type": "markdown",
      "source": [
        "After training, evaluate the performance using metrics such as accuracy and the confusion matrix for a better understanding of model performance."
      ],
      "metadata": {
        "id": "2M9jB-PJQakO"
      }
    },
    {
      "cell_type": "markdown",
      "source": [
        "* Preprocess the IMDb dataset: convert text to sequences and prepare labels.\n",
        "* Design the ANN: one or more hidden layers with ReLU and sigmoid activation for binary classification.\n",
        "* Train the model using binary cross-entropy loss.\n",
        "* Evaluate the model using accuracy and visualize loss/accuracy over epochs.\n",
        "* Justify the use of ReLU in hidden layers and sigmoid in the output layer."
      ],
      "metadata": {
        "id": "L6jRAfceQgga"
      }
    }
  ]
}
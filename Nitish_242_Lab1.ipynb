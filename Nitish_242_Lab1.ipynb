{
  "nbformat": 4,
  "nbformat_minor": 0,
  "metadata": {
    "colab": {
      "provenance": []
    },
    "kernelspec": {
      "name": "python3",
      "display_name": "Python 3"
    },
    "language_info": {
      "name": "python"
    }
  },
  "cells": [
    {
      "cell_type": "markdown",
      "source": [
        "### Importing the Library"
      ],
      "metadata": {
        "id": "1xnx5j3pFTBT"
      }
    },
    {
      "cell_type": "code",
      "execution_count": 1,
      "metadata": {
        "id": "lQgBbbSOEiIA"
      },
      "outputs": [],
      "source": [
        "import numpy as np\n",
        "import matplotlib.pyplot as plt"
      ]
    },
    {
      "cell_type": "markdown",
      "source": [
        "### Defining Threshold Function"
      ],
      "metadata": {
        "id": "Wn4l6EJzGBeI"
      }
    },
    {
      "cell_type": "code",
      "source": [
        "def threshold_function(output, threshold=1):\n",
        "  if output>=threshold:\n",
        "    return 1\n",
        "  else:\n",
        "    return 0"
      ],
      "metadata": {
        "id": "qgUG7U77GG-A"
      },
      "execution_count": 2,
      "outputs": []
    },
    {
      "cell_type": "markdown",
      "source": [
        "### Defining Perceptron"
      ],
      "metadata": {
        "id": "ydRU9M62GoKp"
      }
    },
    {
      "cell_type": "code",
      "source": [
        "def Perceptron(input, weight, target, bias=0):\n",
        "  output=0\n",
        "  for i in range(len(input)):\n",
        "    output+=input[i]*weight[i]\n",
        "  output=threshold_function(output+bias)\n",
        "  print(f\"Got:{output},Expected:{target}\")\n",
        "  return (output==target, output)"
      ],
      "metadata": {
        "id": "itSh38DJG1Pk"
      },
      "execution_count": 8,
      "outputs": []
    },
    {
      "cell_type": "markdown",
      "source": [
        "### Defining the Operation for the Perceptron"
      ],
      "metadata": {
        "id": "cgDqNS_LIt-4"
      }
    },
    {
      "cell_type": "code",
      "source": [
        "def perform_Operation(weight, bias, inputs, targets, threshold = 1, learning_rate = 0.5, epochs = 10):\n",
        "  print(\"*************************************-----------------------------------------------------------------*************************************\")\n",
        "  for epoch in range(epochs):\n",
        "    print(f\"\\n\\nFor Epoch {epoch + 1}\")\n",
        "\n",
        "    i = 0\n",
        "    did_break = False\n",
        "    for i in range(len(inputs)):\n",
        "      result = Perceptron(weight, inputs[i], targets[i], bias)\n",
        "      if not result[0]:\n",
        "        # Calculate new weights\n",
        "        for j in range(len(weight)):\n",
        "          print(f\"Calculating New weights, where learning_rate: {learning_rate}, old_weights: {weight[j]}, difference: {(targets_AND[i] - result[1])}, got_output: {targets_AND[i]}, expected_output: {result[1]}\")\n",
        "          weight[j] += learning_rate * (targets[i] - result[1]) * inputs[i][j]\n",
        "        print(f\"New Weights: {weight}\")\n",
        "        did_break = True\n",
        "        break\n",
        "\n",
        "    if i == len(inputs) - 1 and not did_break:\n",
        "      print(f\"\\nResult weights {weight}, was obtained in {epoch + 1} epochs\")\n",
        "      break;"
      ],
      "metadata": {
        "id": "7uc0p2y8I4s_"
      },
      "execution_count": 19,
      "outputs": []
    },
    {
      "cell_type": "markdown",
      "source": [
        "### AND operation"
      ],
      "metadata": {
        "id": "u7iTRjvVJ5Lw"
      }
    },
    {
      "cell_type": "code",
      "source": [
        "weight_AND = np.array([1.2, 0.6])\n",
        "bias_AND = 0\n",
        "threshold_AND = 1\n",
        "learning_rate_AND = 0.5\n",
        "epochs_AND = 10\n",
        "\n",
        "inputs_AND = [(0,0), (0,1), (1,0), (1,1)]\n",
        "targets_AND = [0, 0, 0, 1]\n",
        "\n",
        "print(f\"\\nFor AND GATE with Random Weights {weight_AND}\")\n",
        "perform_Operation(weight_AND, bias_AND, inputs_AND, targets_AND, threshold_AND, learning_rate_AND, epochs_AND)\n",
        "\n",
        "print(f\"\\nFor AND GATE with Optimal Weights {weight_AND}\")\n",
        "perform_Operation(weight_AND, bias_AND, inputs_AND, targets_AND, threshold_AND, learning_rate_AND, epochs_AND)"
      ],
      "metadata": {
        "colab": {
          "base_uri": "https://localhost:8080/"
        },
        "id": "k6sjkWceJ8hA",
        "outputId": "2f7a65b9-498c-458a-c232-3b182c3f7d71"
      },
      "execution_count": 20,
      "outputs": [
        {
          "output_type": "stream",
          "name": "stdout",
          "text": [
            "\n",
            "For AND GATE with Random Weights [1.2 0.6]\n",
            "*************************************-----------------------------------------------------------------*************************************\n",
            "\n",
            "\n",
            "For Epoch 1\n",
            "Got:0,Expected:0\n",
            "Got:0,Expected:0\n",
            "Got:1,Expected:0\n",
            "Calculating New weights, where learning_rate: 0.5, old_weights: 1.2, difference: -1, got_output: 0, expected_output: 1\n",
            "Calculating New weights, where learning_rate: 0.5, old_weights: 0.6, difference: -1, got_output: 0, expected_output: 1\n",
            "New Weights: [0.7 0.6]\n",
            "\n",
            "\n",
            "For Epoch 2\n",
            "Got:0,Expected:0\n",
            "Got:0,Expected:0\n",
            "Got:0,Expected:0\n",
            "Got:1,Expected:1\n",
            "\n",
            "Result weights [0.7 0.6], was obtained in 2 epochs\n",
            "\n",
            "For AND GATE with Optimal Weights [0.7 0.6]\n",
            "*************************************-----------------------------------------------------------------*************************************\n",
            "\n",
            "\n",
            "For Epoch 1\n",
            "Got:0,Expected:0\n",
            "Got:0,Expected:0\n",
            "Got:0,Expected:0\n",
            "Got:1,Expected:1\n",
            "\n",
            "Result weights [0.7 0.6], was obtained in 1 epochs\n"
          ]
        }
      ]
    },
    {
      "cell_type": "markdown",
      "source": [
        "### Questions:\n",
        "#### Q. How do the weights and bias values change during training for the AND gate?  \n",
        "Ans.:-\n",
        "* During training of a perceptron for an AND gate, the weights and bias values are updated iteratively using a learning algorithm (here gradient descent). The goal is to minimize the error between the perceptron's output and the target output (the expected value from the AND gate truth table)  \n",
        "Weight: refers to the value multiplied to each seperate input (It may be different for each input)\n",
        "Bias: refers to the value added to the output of the Summation of weights into inputs. This is important as if it is not present, the output will be 0 when the input is 0.\n",
        "\n",
        "#### Q. Can the perceptron successfully learn the AND logic with a linear decision boundary?\n",
        "Ans.:-\n",
        "* Yes, a single-layer perceptron can successfully learn the AND logic using a linear decision boundary. The perceptron can solve problems that are linearly separable, meaning the inputs can be separated into different classes by a straight line (in 2D space) or a hyperplane (in higher dimensions)."
      ],
      "metadata": {
        "id": "j-PK9oYgLCZs"
      }
    },
    {
      "cell_type": "markdown",
      "source": [
        "### OR Gate"
      ],
      "metadata": {
        "id": "DxzaucJULEQW"
      }
    },
    {
      "cell_type": "code",
      "source": [
        "bias_OR = 0\n",
        "threshold_OR = 1\n",
        "learning_rate_OR = 0.5\n",
        "epochs_OR = 10\n",
        "\n",
        "inputs_OR = [(0,0), (0,1), (1,0), (1,1)]\n",
        "weight_OR = np.array([1.2, 0.6])\n",
        "targets_OR = [0,1,1,1]\n",
        "\n",
        "print(f\"\\nFor OR GATE with Random Weights {weight_OR}\")\n",
        "perform_Operation(weight_OR, bias_OR, inputs_OR, targets_OR, threshold_OR, learning_rate_OR, epochs_OR)\n",
        "\n",
        "print(f\"\\nFor OR GATE with Optimal Weights {weight_OR}\")\n",
        "perform_Operation(weight_OR, bias_OR, inputs_OR, targets_OR, threshold_OR, learning_rate_OR, epochs_OR)"
      ],
      "metadata": {
        "colab": {
          "base_uri": "https://localhost:8080/"
        },
        "id": "8A8DQ-M4LGzy",
        "outputId": "218cc8c3-ef2a-48f3-cc46-9bba3a2fd235"
      },
      "execution_count": 10,
      "outputs": [
        {
          "output_type": "stream",
          "name": "stdout",
          "text": [
            "\n",
            "For OR GATE with Random Weights [1.2 0.6]\n",
            "==========================================================================\n",
            "\n",
            "\n",
            "For Epoch 1\n",
            "Got:0,Expected:0\n",
            "Got:0,Expected:1\n",
            "Calculating New weights, where learning_rate: 0.5, old_weights: 1.2, difference: 0, got_output: 0, expected_output: 0\n",
            "Calculating New weights, where learning_rate: 0.5, old_weights: 0.6, difference: 0, got_output: 0, expected_output: 0\n",
            "New Weights: [1.2 1.1]\n",
            "\n",
            "\n",
            "For Epoch 2\n",
            "Got:0,Expected:0\n",
            "Got:1,Expected:1\n",
            "Got:1,Expected:1\n",
            "Got:1,Expected:1\n",
            "\n",
            "Result weights [1.2 1.1], was obtained in 2 epochs\n",
            "\n",
            "For OR GATE with Optimal Weights [1.2 1.1]\n",
            "==========================================================================\n",
            "\n",
            "\n",
            "For Epoch 1\n",
            "Got:0,Expected:0\n",
            "Got:1,Expected:1\n",
            "Got:1,Expected:1\n",
            "Got:1,Expected:1\n",
            "\n",
            "Result weights [1.2 1.1], was obtained in 1 epochs\n"
          ]
        }
      ]
    },
    {
      "cell_type": "markdown",
      "source": [
        "### Questions:\n",
        "#### Q. What changes in the perceptron's weights are necessary to represent the OR gate logic?\n",
        "Ans.:-\n",
        "* To represent the OR gate logic using a perceptron, the weights and bias must be adjusted so that the perceptron outputs 1 when at least one input is 1, and 0 only when both inputs are 0.\n",
        "\n",
        "\n",
        "#### Q. How does the linear decision boundary look for the OR gate classification?\n",
        "Ans.:-"
      ],
      "metadata": {
        "id": "3ZrLiz0cLQ_n"
      }
    },
    {
      "cell_type": "code",
      "source": [
        "x1_values = np.linspace(-0.1, 1.1, 100)  # Range for x1 (extend slightly for better visibility)\n",
        "# Calculate corresponding x2 values for the decision boundary\n",
        "x2_values = -(weight_OR[0] * x1_values + bias_OR) / weight_OR[1]\n",
        "\n",
        "# Plot the decision boundary line\n",
        "plt.plot(x1_values, x2_values, label=\"Decision Boundary\", color=\"blue\")\n",
        "\n",
        "# Plot the input points and color them based on the target values\n",
        "for input_point, target in zip(inputs_OR, targets_OR):\n",
        "    if target == 0:\n",
        "        plt.scatter(input_point[0], input_point[1], color='red', label='Class 0' if target == 0 else '')\n",
        "    else:\n",
        "        plt.scatter(input_point[0], input_point[1], color='green', label='Class 1' if target == 1 else '')\n",
        "# Set plot limits and labels\n",
        "plt.xlim([-0.1, 1.1])\n",
        "plt.ylim([-0.1, 1.1])\n",
        "plt.axhline(0, color='black',linewidth=0.5)\n",
        "plt.axvline(0, color='black',linewidth=0.5)\n",
        "plt.xlabel('Input x1')\n",
        "plt.ylabel('Input x2')\n",
        "\n",
        "# Show plot with legends\n",
        "plt.legend()\n",
        "plt.title('Decision Boundary for OR Gate')\n",
        "# plt.grid(True)\n",
        "plt.show()"
      ],
      "metadata": {
        "colab": {
          "base_uri": "https://localhost:8080/",
          "height": 472
        },
        "id": "R_-dhKNILScJ",
        "outputId": "0899f237-cebc-439e-978f-e431d58ed846"
      },
      "execution_count": 11,
      "outputs": [
        {
          "output_type": "display_data",
          "data": {
            "text/plain": [
              "<Figure size 640x480 with 1 Axes>"
            ],
            "image/png": "[encoded data removed]"
          },
          "metadata": {}
        }
      ]
    },
    {
      "cell_type": "markdown",
      "source": [
        "### For AND-NOT Gate"
      ],
      "metadata": {
        "id": "y5brKlhMLZjm"
      }
    },
    {
      "cell_type": "code",
      "source": [
        "bias_AND_NOT = 0\n",
        "threshold_AND_NOT = 1\n",
        "learning_rate_AND_NOT = 0.5\n",
        "epochs_AND_NOT = 10\n",
        "\n",
        "inputs_AND_NOT= [(0,0), (0,1), (1,0), (1,1)]\n",
        "weight_AND_NOT = np.array([-0.63 , -0.43])\n",
        "targets_AND_NOT = [0,0,1,0]\n",
        "\n",
        "print(f\"\\nFor NAND GATE with Random Weights {weight_AND_NOT}\")\n",
        "perform_Operation(weight_AND_NOT, bias_AND_NOT, inputs_AND_NOT, targets_AND_NOT, threshold_AND_NOT, learning_rate_AND_NOT, epochs_AND_NOT)\n",
        "\n",
        "print(f\"\\nFor NAND GATE with Optimal Weights {weight_AND_NOT}\")\n",
        "perform_Operation(weight_AND_NOT, bias_AND_NOT, inputs_AND_NOT, targets_AND_NOT, threshold_AND_NOT, learning_rate_AND_NOT, epochs_AND_NOT)"
      ],
      "metadata": {
        "colab": {
          "base_uri": "https://localhost:8080/"
        },
        "id": "uMHoYsGXLbK7",
        "outputId": "0122198b-e7d5-43af-db7e-b9664cb6c9ca"
      },
      "execution_count": 21,
      "outputs": [
        {
          "output_type": "stream",
          "name": "stdout",
          "text": [
            "\n",
            "For NAND GATE with Random Weights [-0.63 -0.43]\n",
            "*************************************-----------------------------------------------------------------*************************************\n",
            "\n",
            "\n",
            "For Epoch 1\n",
            "Got:0,Expected:0\n",
            "Got:0,Expected:0\n",
            "Got:0,Expected:1\n",
            "Calculating New weights, where learning_rate: 0.5, old_weights: -0.63, difference: 0, got_output: 0, expected_output: 0\n",
            "Calculating New weights, where learning_rate: 0.5, old_weights: -0.43, difference: 0, got_output: 0, expected_output: 0\n",
            "New Weights: [-0.13 -0.43]\n",
            "\n",
            "\n",
            "For Epoch 2\n",
            "Got:0,Expected:0\n",
            "Got:0,Expected:0\n",
            "Got:0,Expected:1\n",
            "Calculating New weights, where learning_rate: 0.5, old_weights: -0.13, difference: 0, got_output: 0, expected_output: 0\n",
            "Calculating New weights, where learning_rate: 0.5, old_weights: -0.43, difference: 0, got_output: 0, expected_output: 0\n",
            "New Weights: [ 0.37 -0.43]\n",
            "\n",
            "\n",
            "For Epoch 3\n",
            "Got:0,Expected:0\n",
            "Got:0,Expected:0\n",
            "Got:0,Expected:1\n",
            "Calculating New weights, where learning_rate: 0.5, old_weights: 0.37, difference: 0, got_output: 0, expected_output: 0\n",
            "Calculating New weights, where learning_rate: 0.5, old_weights: -0.43, difference: 0, got_output: 0, expected_output: 0\n",
            "New Weights: [ 0.87 -0.43]\n",
            "\n",
            "\n",
            "For Epoch 4\n",
            "Got:0,Expected:0\n",
            "Got:0,Expected:0\n",
            "Got:0,Expected:1\n",
            "Calculating New weights, where learning_rate: 0.5, old_weights: 0.87, difference: 0, got_output: 0, expected_output: 0\n",
            "Calculating New weights, where learning_rate: 0.5, old_weights: -0.43, difference: 0, got_output: 0, expected_output: 0\n",
            "New Weights: [ 1.37 -0.43]\n",
            "\n",
            "\n",
            "For Epoch 5\n",
            "Got:0,Expected:0\n",
            "Got:0,Expected:0\n",
            "Got:1,Expected:1\n",
            "Got:0,Expected:0\n",
            "\n",
            "Result weights [ 1.37 -0.43], was obtained in 5 epochs\n",
            "\n",
            "For NAND GATE with Optimal Weights [ 1.37 -0.43]\n",
            "*************************************-----------------------------------------------------------------*************************************\n",
            "\n",
            "\n",
            "For Epoch 1\n",
            "Got:0,Expected:0\n",
            "Got:0,Expected:0\n",
            "Got:1,Expected:1\n",
            "Got:0,Expected:0\n",
            "\n",
            "Result weights [ 1.37 -0.43], was obtained in 1 epochs\n"
          ]
        }
      ]
    },
    {
      "cell_type": "markdown",
      "source": [
        "### Questions\n",
        "#### Q. What is the perceptron's weight configuration after training for the AND-NOT gate?\n",
        "weights are: [1.37 -0.43]\n",
        "#### Q. How does the perceptron handle cases where both inputs are 1 or 0?\n",
        "It returns a 0 when both inputs are 1 or 0."
      ],
      "metadata": {
        "id": "ZGoz7TnxLixE"
      }
    },
    {
      "cell_type": "markdown",
      "source": [
        "### NOT Gate"
      ],
      "metadata": {
        "id": "Wjx-3iXoLjrA"
      }
    },
    {
      "cell_type": "code",
      "source": [
        "threshold_NOT = 1\n",
        "learning_rate_NOT = 0.5\n",
        "epochs_NOT = 10\n",
        "bias_NOT = 1\n",
        "\n",
        "inputs_NOT = [(1,),(0,)]\n",
        "weight_NOT = np.array([-1])\n",
        "targets_NOT = [0, 1]\n",
        "\n",
        "\n",
        "print(f\"\\nFor NOT GATE with Random Weights {weight_NOT}\")\n",
        "perform_Operation(weight_NOT, bias_NOT, inputs_NOT, targets_NOT, threshold_NOT, learning_rate_NOT, epochs_NOT)\n",
        "\n",
        "print(f\"\\nFor NOT GATE with Optimal Weights {weight_NOT}\")\n",
        "perform_Operation(weight_NOT, bias_NOT, inputs_NOT, targets_NOT, threshold_NOT, learning_rate_NOT, epochs_NOT)"
      ],
      "metadata": {
        "colab": {
          "base_uri": "https://localhost:8080/"
        },
        "id": "xccY6Ix8Lm5E",
        "outputId": "87ae2c3d-22d7-47ce-bd7f-967f10ac8bfb"
      },
      "execution_count": 13,
      "outputs": [
        {
          "output_type": "stream",
          "name": "stdout",
          "text": [
            "\n",
            "For NOT GATE with Random Weights [-1]\n",
            "==========================================================================\n",
            "\n",
            "\n",
            "For Epoch 1\n",
            "Got:0,Expected:0\n",
            "Got:1,Expected:1\n",
            "\n",
            "Result weights [-1], was obtained in 1 epochs\n",
            "\n",
            "For NOT GATE with Optimal Weights [-1]\n",
            "==========================================================================\n",
            "\n",
            "\n",
            "For Epoch 1\n",
            "Got:0,Expected:0\n",
            "Got:1,Expected:1\n",
            "\n",
            "Result weights [-1], was obtained in 1 epochs\n"
          ]
        }
      ]
    },
    {
      "cell_type": "markdown",
      "source": [
        "### XOR Gate"
      ],
      "metadata": {
        "id": "Io1ngAikMCgu"
      }
    },
    {
      "cell_type": "code",
      "source": [
        "def XOR_logicFunction(x, targets_AND, targets_OR, targets_AND_NOT):\n",
        "    y1 = Perceptron(weight_AND, x, targets_AND, bias_AND)[1]\n",
        "    y2 = Perceptron(weight_OR, x, targets_OR, bias_OR)[1]\n",
        "    y3 = Perceptron(weight_AND_NOT, [y2, y1], targets_AND_NOT, bias_AND_NOT)[1]\n",
        "    return y3\n",
        "\n",
        "test1 = np.array([0, 1])\n",
        "test2 = np.array([1, 1])\n",
        "test3 = np.array([0, 0])\n",
        "test4 = np.array([1, 0])\n",
        "\n",
        "print(\"XOR({}, {}) = {}\\n\".format(0, 1, XOR_logicFunction(test1, [0],[1],[0])))\n",
        "print(\"XOR({}, {}) = {}\\n\".format(1, 1, XOR_logicFunction(test2, [1],[1],[1])))\n",
        "print(\"XOR({}, {}) = {}\\n\".format(0, 0, XOR_logicFunction(test3, [0],[0],[0])))\n",
        "print(\"XOR({}, {}) = {}\\n\".format(1, 0, XOR_logicFunction(test4, [0],[1],[0])))"
      ],
      "metadata": {
        "colab": {
          "base_uri": "https://localhost:8080/"
        },
        "id": "76aB79t0Luaq",
        "outputId": "8aa6afd4-b2bb-41a2-afa8-0f5afb8f743e"
      },
      "execution_count": 14,
      "outputs": [
        {
          "output_type": "stream",
          "name": "stdout",
          "text": [
            "Got:0,Expected:[0]\n",
            "Got:1,Expected:[1]\n",
            "Got:1,Expected:[0]\n",
            "XOR(0, 1) = 1\n",
            "\n",
            "Got:1,Expected:[1]\n",
            "Got:1,Expected:[1]\n",
            "Got:0,Expected:[1]\n",
            "XOR(1, 1) = 0\n",
            "\n",
            "Got:0,Expected:[0]\n",
            "Got:0,Expected:[0]\n",
            "Got:0,Expected:[0]\n",
            "XOR(0, 0) = 0\n",
            "\n",
            "Got:0,Expected:[0]\n",
            "Got:1,Expected:[1]\n",
            "Got:1,Expected:[0]\n",
            "XOR(1, 0) = 1\n",
            "\n"
          ]
        }
      ]
    },
    {
      "cell_type": "markdown",
      "source": [
        "### Questions:\n",
        "#### Q. Why does the Single Layer Perceptron struggle to classify the XOR gate?\n",
        "Ans.:-\n",
        "* It struggles since the XOR Gate is not linearly Seperable\n",
        "* Single Layer Perceptron Limitation: An SLP can only create linear decision boundaries. It means it can only classify problems that are linearly separable.\n",
        "\n",
        "* It computes the output as:\n",
        "    Output=Activation(Weights⋅Input+Bias)\n",
        "\n",
        "* The decision boundary is a straight line (or hyperplane in higher dimensions).\n",
        "\n",
        "* XOR Gate Non-Linearity: The XOR gate requires a decision boundary that can curve or bend to separate the two classes, which a single line cannot achieve.\n",
        "\n",
        "\n",
        "#### Q. What modifications can be made to the neural network model to handle the XOR gate correctly?\n",
        "* We can Add a hidden Layer to the network with backward Propogation\n",
        "* To classify the XOR gate correctly, we need a more complex model like a Multi-Layer Perceptron (MLP) with at least one hidden layer. An MLP can create non-linear decision boundaries by combining multiple linear boundaries through hidden layers, enabling it to solve non-linearly separable problems like XOR."
      ],
      "metadata": {
        "id": "vxZeulapL2q2"
      }
    },
    {
      "cell_type": "code",
      "source": [],
      "metadata": {
        "id": "B1Vi5__oNQ60"
      },
      "execution_count": null,
      "outputs": []
    }
  ]
}
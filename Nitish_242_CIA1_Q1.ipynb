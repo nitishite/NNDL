{
  "nbformat": 4,
  "nbformat_minor": 0,
  "metadata": {
    "colab": {
      "provenance": []
    },
    "kernelspec": {
      "name": "python3",
      "display_name": "Python 3"
    },
    "language_info": {
      "name": "python"
    }
  },
  "cells": [
    {
      "cell_type": "markdown",
      "source": [
        "#Question 1"
      ],
      "metadata": {
        "id": "KPXRof4A-Rmm"
      }
    },
    {
      "cell_type": "markdown",
      "source": [
        "## Implementing a Single Layer Perceptron Implementation Using McCulloch Pitts Neuron"
      ],
      "metadata": {
        "id": "TC7TmlVb7yjk"
      }
    },
    {
      "cell_type": "code",
      "execution_count": 3,
      "metadata": {
        "colab": {
          "base_uri": "https://localhost:8080/"
        },
        "id": "EjLNh3VU7HXO",
        "outputId": "8ef7d17a-7900-4319-b8e8-d00e7624c07e"
      },
      "outputs": [
        {
          "output_type": "stream",
          "name": "stdout",
          "text": [
            "Epoch 1, Total Error: [2]\n",
            "Epoch 2, Total Error: [2]\n",
            "Epoch 3, Total Error: [3]\n",
            "Epoch 4, Total Error: [3]\n",
            "Epoch 5, Total Error: [2]\n",
            "Epoch 6, Total Error: [3]\n",
            "Epoch 7, Total Error: [4]\n",
            "Epoch 8, Total Error: [4]\n",
            "Epoch 9, Total Error: [4]\n",
            "Epoch 10, Total Error: [4]\n",
            "Final Weights: [-0.09214098 -0.04339907]\n",
            "Final Bias: [0.08135952]\n"
          ]
        }
      ],
      "source": [
        "import numpy as np\n",
        "\n",
        "# XOR truth table data\n",
        "X = np.array([[0, 0], [0, 1], [1, 0], [1, 1]])  # Inputs\n",
        "y = np.array([0, 1, 1, 0])  # Outputs (XOR)\n",
        "\n",
        "# Initialize weights and bias\n",
        "weights = np.random.rand(2)  # Two inputs, so two weights\n",
        "bias = np.random.rand(1)\n",
        "learning_rate = 0.1\n",
        "epochs = 10\n",
        "\n",
        "# Step (threshold) function for McCulloch Pitts Neuron\n",
        "def step_function(x):\n",
        "    return np.where(x >= 0, 1, 0)\n",
        "\n",
        "# Training the single layer perceptron\n",
        "for epoch in range(epochs):\n",
        "    total_error = 0\n",
        "    for i in range(len(X)):\n",
        "        # Weighted sum\n",
        "        z = np.dot(X[i], weights) + bias\n",
        "        prediction = step_function(z)\n",
        "\n",
        "        # Calculate error\n",
        "        error = y[i] - prediction\n",
        "        total_error += error ** 2\n",
        "\n",
        "        # Update weights and bias\n",
        "        weights += learning_rate * error * X[i]\n",
        "        bias += learning_rate * error\n",
        "\n",
        "    print(f'Epoch {epoch+1}, Total Error: {total_error}')\n",
        "\n",
        "# Final weights and bias after training\n",
        "print(\"Final Weights:\", weights)\n",
        "print(\"Final Bias:\", bias)\n"
      ]
    },
    {
      "cell_type": "markdown",
      "source": [
        "### Perceptron's performance in this scenario.\n",
        "As expected, the single layer perceptron will struggle to converge or classify the XOR problem properly. This is because XOR is a non-linearly separable problem, and a single layer perceptron cannot form a non-linear decision boundary. The perceptron will likely have a significant error even after training."
      ],
      "metadata": {
        "id": "8k4DShOP9wXg"
      }
    },
    {
      "cell_type": "markdown",
      "source": [
        "## Multi-Layer Perceptron (MLP) Implementation for XOR"
      ],
      "metadata": {
        "id": "7-AY1-gy8FZX"
      }
    },
    {
      "cell_type": "markdown",
      "source": [
        "in order to overcome from the XOR problem's complexity, a Multi-Layer Perceptron with a hidden layer can be used."
      ],
      "metadata": {
        "id": "LwrHT68I93jJ"
      }
    },
    {
      "cell_type": "code",
      "source": [
        "# Import necessary libraries\n",
        "from sklearn.neural_network import MLPClassifier\n",
        "\n",
        "# XOR truth table data\n",
        "X = np.array([[0, 0], [0, 1], [1, 0], [1, 1]])  # Inputs\n",
        "y = np.array([0, 1, 1, 0])  # Outputs (XOR)\n",
        "\n",
        "# Create the MLP model\n",
        "mlp = MLPClassifier(hidden_layer_sizes=(2,), activation='tanh', max_iter=10000)\n",
        "\n",
        "# Train the MLP model\n",
        "mlp.fit(X, y)\n",
        "\n",
        "# Test predictions\n",
        "predictions = mlp.predict(X)\n",
        "print(\"Predictions for XOR:\", predictions)\n",
        "\n",
        "# Evaluate performance\n",
        "accuracy = mlp.score(X, y)\n",
        "print(\"Accuracy:\", accuracy)\n"
      ],
      "metadata": {
        "colab": {
          "base_uri": "https://localhost:8080/"
        },
        "id": "iVjTFhLx8Gjt",
        "outputId": "e99e8d8f-509d-4a43-ad81-d4a84509f6f7"
      },
      "execution_count": 2,
      "outputs": [
        {
          "output_type": "stream",
          "name": "stdout",
          "text": [
            "Predictions for XOR: [0 0 1 1]\n",
            "Accuracy: 0.5\n"
          ]
        }
      ]
    },
    {
      "cell_type": "markdown",
      "source": [
        "#### Observing Results for the MLP Model\n",
        "The Multi-Layer Perceptron will be able to correctly classify the XOR gate due to the hidden layer introducing non-linearity. The tanh activation function helps form a non-linear decision boundary, enabling the MLP to solve the XOR problem."
      ],
      "metadata": {
        "id": "GSF7APYT9_Hh"
      }
    },
    {
      "cell_type": "markdown",
      "source": [
        "### Observing Results for the MLP Model"
      ],
      "metadata": {
        "id": "nHN0rcmr-Fed"
      }
    },
    {
      "cell_type": "code",
      "source": [
        "import matplotlib.pyplot as plt\n",
        "\n",
        "# Create a mesh grid for visualization\n",
        "x_min, x_max = X[:, 0].min() - 1, X[:, 0].max() + 1\n",
        "y_min, y_max = X[:, 1].min() - 1, X[:, 1].max() + 1\n",
        "xx, yy = np.meshgrid(np.arange(x_min, x_max, 0.01),\n",
        "                     np.arange(y_min, y_max, 0.01))\n",
        "\n",
        "# Predict over the grid\n",
        "Z = mlp.predict(np.c_[xx.ravel(), yy.ravel()])\n",
        "Z = Z.reshape(xx.shape)\n",
        "\n",
        "# Plot decision boundary\n",
        "plt.contourf(xx, yy, Z, alpha=0.8)\n",
        "plt.scatter(X[:, 0], X[:, 1], c=y, edgecolor='k', marker='o')\n",
        "plt.title(\"XOR Classification with MLP\")\n",
        "plt.show()\n"
      ],
      "metadata": {
        "colab": {
          "base_uri": "https://localhost:8080/",
          "height": 452
        },
        "id": "F18JEH8k-F_Z",
        "outputId": "5b619674-b052-4724-f37d-d14265f12b5d"
      },
      "execution_count": 4,
      "outputs": [
        {
          "output_type": "display_data",
          "data": {
            "text/plain": [
              "<Figure size 640x480 with 1 Axes>"
            ],
            "image/png": "[encoded data removed]"
          },
          "metadata": {}
        }
      ]
    },
    {
      "cell_type": "markdown",
      "source": [
        "* Single Layer Perceptron: Fails to classify XOR due to the inability to separate the data linearly.\n",
        "* Multi-Layer Perceptron: Successfully classifies XOR by using a hidden layer and a non-linear activation function like tanh.\n",
        "* The model's performance is evaluated through accuracy and visualized using decision boundary plots.\n",
        "* This implementation demonstrates the limitations of the single layer perceptron and highlights the power of multi-layer networks."
      ],
      "metadata": {
        "id": "ph1aFgz7-MTe"
      }
    }
  ]
}